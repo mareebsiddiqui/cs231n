{
 "cells": [
  {
   "cell_type": "code",
   "execution_count": 1,
   "metadata": {},
   "outputs": [],
   "source": [
    "%load_ext autoreload\n",
    "%autoreload 2\n",
    "\n",
    "from knnClassifer import KNearestNeighbor\n",
    "import numpy as np\n",
    "import pandas as pd\n",
    "\n",
    "try:\n",
    "    del X_train, y_train\n",
    "    del test_dataset, y_test_pred\n",
    "    print('Clear previously loaded data.')\n",
    "except:\n",
    "    pass\n",
    "\n",
    "# load datasets\n",
    "\n",
    "train_dataset = pd.read_csv(\"./datasets/mnist/train.csv\", sep=\",\", dtype=int).to_numpy()\n",
    "test_dataset = pd.read_csv(\"./datasets/mnist/test.csv\", sep=\",\", dtype=int).to_numpy()"
   ]
  },
  {
   "cell_type": "code",
   "execution_count": 2,
   "metadata": {},
   "outputs": [
    {
     "name": "stdout",
     "output_type": "stream",
     "text": [
      "(42000, 784)\n",
      "(42000,)\n",
      "(28000, 784)\n"
     ]
    }
   ],
   "source": [
    "# train\n",
    "\n",
    "X_train = train_dataset[:, 1:].astype(np.uint8)\n",
    "y_train = np.ravel(train_dataset[:, [0,]]).astype(np.uint8)\n",
    "\n",
    "print(X_train.shape)\n",
    "print(y_train.shape)\n",
    "print(test_dataset.shape)\n",
    "\n",
    "classifier = KNearestNeighbor()\n",
    "classifier.train(X_train, y_train)"
   ]
  },
  {
   "cell_type": "code",
   "execution_count": 3,
   "metadata": {},
   "outputs": [
    {
     "name": "stdout",
     "output_type": "stream",
     "text": [
      "(42000, 784)\n",
      "ran k: 1\n",
      "ran k: 2\n",
      "ran k: 3\n",
      "ran k: 4\n",
      "ran k: 5\n",
      "ran k: 6\n",
      "ran k: 7\n",
      "ran k: 8\n",
      "ran k: 9\n",
      "ran k: 10\n"
     ]
    }
   ],
   "source": [
    "# cross validation\n",
    "\n",
    "num_folds = 5\n",
    "\n",
    "X_train_folds = np.array(np.array_split(X_train, X_train.shape[0]/num_folds)).astype(np.uint8)\n",
    "y_train_folds = np.array(np.array_split(y_train, y_train.shape[0]/num_folds)).astype(np.uint8)\n",
    "\n",
    "print(X_train.shape)\n",
    "\n",
    "k_choices = [1, 2, 3, 4, 5, 6, 7, 8, 9, 10]\n",
    "k_accuracies = {}\n",
    "\n",
    "# print(y_train)\n",
    "\n",
    "# calculate accuracies for each fold against each k and store them in k_accuracies\n",
    "for k in k_choices:\n",
    "    k_accuracies[k] = []\n",
    "    for i in range(num_folds):\n",
    "        preds = classifier.predict(X_train_folds[i], k)\n",
    "        accuracy = float(np.sum(preds == y_train_folds[i])) / num_folds\n",
    "        k_accuracies[k].append(accuracy)\n",
    "        \n",
    "    print(\"ran k:\", k)"
   ]
  },
  {
   "cell_type": "code",
   "execution_count": 4,
   "metadata": {},
   "outputs": [
    {
     "name": "stdout",
     "output_type": "stream",
     "text": [
      "k = 1, accuracy = 0.400000\n",
      "k = 1, accuracy = 0.000000\n",
      "k = 1, accuracy = 0.200000\n",
      "k = 1, accuracy = 0.200000\n",
      "k = 1, accuracy = 0.200000\n",
      "k = 2, accuracy = 0.400000\n",
      "k = 2, accuracy = 0.000000\n",
      "k = 2, accuracy = 0.200000\n",
      "k = 2, accuracy = 0.200000\n",
      "k = 2, accuracy = 0.400000\n",
      "k = 3, accuracy = 0.400000\n",
      "k = 3, accuracy = 0.000000\n",
      "k = 3, accuracy = 0.200000\n",
      "k = 3, accuracy = 0.200000\n",
      "k = 3, accuracy = 0.200000\n",
      "k = 4, accuracy = 0.400000\n",
      "k = 4, accuracy = 0.000000\n",
      "k = 4, accuracy = 0.200000\n",
      "k = 4, accuracy = 0.400000\n",
      "k = 4, accuracy = 0.200000\n",
      "k = 5, accuracy = 0.400000\n",
      "k = 5, accuracy = 0.000000\n",
      "k = 5, accuracy = 0.200000\n",
      "k = 5, accuracy = 0.400000\n",
      "k = 5, accuracy = 0.000000\n",
      "k = 6, accuracy = 0.400000\n",
      "k = 6, accuracy = 0.000000\n",
      "k = 6, accuracy = 0.200000\n",
      "k = 6, accuracy = 0.400000\n",
      "k = 6, accuracy = 0.000000\n",
      "k = 7, accuracy = 0.400000\n",
      "k = 7, accuracy = 0.000000\n",
      "k = 7, accuracy = 0.200000\n",
      "k = 7, accuracy = 0.200000\n",
      "k = 7, accuracy = 0.000000\n",
      "k = 8, accuracy = 0.400000\n",
      "k = 8, accuracy = 0.000000\n",
      "k = 8, accuracy = 0.200000\n",
      "k = 8, accuracy = 0.200000\n",
      "k = 8, accuracy = 0.000000\n",
      "k = 9, accuracy = 0.400000\n",
      "k = 9, accuracy = 0.000000\n",
      "k = 9, accuracy = 0.200000\n",
      "k = 9, accuracy = 0.200000\n",
      "k = 9, accuracy = 0.000000\n",
      "k = 10, accuracy = 0.400000\n",
      "k = 10, accuracy = 0.000000\n",
      "k = 10, accuracy = 0.200000\n",
      "k = 10, accuracy = 0.200000\n",
      "k = 10, accuracy = 0.000000\n"
     ]
    }
   ],
   "source": [
    "for k in sorted(k_accuracies):\n",
    "    for accuracy in k_accuracies[k]:\n",
    "        print('k = %d, accuracy = %f' % (k, accuracy))"
   ]
  },
  {
   "cell_type": "code",
   "execution_count": 6,
   "metadata": {},
   "outputs": [
    {
     "data": {
      "image/png": "[encoded data removed]",
      "text/plain": [
       "<Figure size 432x288 with 1 Axes>"
      ]
     },
     "metadata": {
      "needs_background": "light"
     },
     "output_type": "display_data"
    }
   ],
   "source": [
    "import matplotlib.pyplot as plt\n",
    "\n",
    "for k in k_choices:\n",
    "    accuracies = k_accuracies[k]\n",
    "    plt.scatter([k] * len(accuracies), accuracies)\n",
    "    \n",
    "accuracies_mean = np.array([np.mean(v) for k,v in sorted(k_accuracies.items())])\n",
    "accuracies_std = np.array([np.std(v) for k,v in sorted(k_accuracies.items())])\n",
    "plt.errorbar(k_choices, accuracies_mean, yerr=accuracies_std)\n",
    "plt.title('Cross-validation on k')\n",
    "plt.xlabel('k')\n",
    "plt.ylabel('Cross-validation accuracy')\n",
    "plt.show()"
   ]
  },
  {
   "cell_type": "code",
   "execution_count": null,
   "metadata": {},
   "outputs": [],
   "source": [
    "from sklearn.neighbors import KNeighborsClassifier as knn\n",
    "neigh = knn(n_neighbors=3)\n",
    "neigh.fit(X_train, y_train)\n",
    "neigh.predict(test_dataset)\n",
    "# best_k = 4\n",
    "\n",
    "# print(test_dataset.shape)\n",
    "\n",
    "# y_preds = classifier.predict(test_dataset[:50], k=best_k)\n",
    "\n",
    "# print(y_preds)"
   ]
  }
 ],
 "metadata": {
  "kernelspec": {
   "display_name": "Python 3",
   "language": "python",
   "name": "python3"
  },
  "language_info": {
   "codemirror_mode": {
    "name": "ipython",
    "version": 3
   },
   "file_extension": ".py",
   "mimetype": "text/x-python",
   "name": "python",
   "nbconvert_exporter": "python",
   "pygments_lexer": "ipython3",
   "version": "3.7.3"
  }
 },
 "nbformat": 4,
 "nbformat_minor": 2
}
